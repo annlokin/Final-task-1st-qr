{
  "nbformat": 4,
  "nbformat_minor": 0,
  "metadata": {
    "colab": {
      "provenance": [],
      "authorship_tag": "ABX9TyP8CUvD3Rh/ZvgoYcp6c0oZ",
      "include_colab_link": true
    },
    "kernelspec": {
      "name": "python3",
      "display_name": "Python 3"
    },
    "language_info": {
      "name": "python"
    }
  },
  "cells": [
    {
      "cell_type": "markdown",
      "metadata": {
        "id": "view-in-github",
        "colab_type": "text"
      },
      "source": [
        "<a href=\"https://colab.research.google.com/github/annlokin/Final-task-1st-qr/blob/master/Lesson3(EDA).ipynb\" target=\"_parent\"><img src=\"https://colab.research.google.com/assets/colab-badge.svg\" alt=\"Open In Colab\"/></a>"
      ]
    },
    {
      "cell_type": "markdown",
      "source": [
        "### Task 1"
      ],
      "metadata": {
        "id": "8r4eTLiKDQ0s"
      }
    },
    {
      "cell_type": "markdown",
      "source": [
        "Даны значения зарплат из выборки выпускников: 100, 80, 75, 77, 89, 33, 45, 25, 65, 17, 30, 24, 57, 55, 70, 75, 65, 84, 90, 150. Посчитать (желательно без использования статистических методов наподобие std, var, mean) среднее арифметическое, среднее квадратичное отклонение, смещенную и несмещенную оценки дисперсий для данной выборки."
      ],
      "metadata": {
        "id": "1MNHgxEADMT8"
      }
    },
    {
      "cell_type": "code",
      "source": [
        "import numpy as np\n",
        "from math import factorial"
      ],
      "metadata": {
        "id": "hTP_dzTUDlQn"
      },
      "execution_count": 1,
      "outputs": []
    },
    {
      "cell_type": "code",
      "source": [
        "salary_array=np.array([100, 80, 75, 77, 89, 33, 45, 25, 65, 17, 30, 24, 57, 55, 70, 75, 65, 84, 90, 150])"
      ],
      "metadata": {
        "id": "MP3FU_2gEo9d"
      },
      "execution_count": 2,
      "outputs": []
    },
    {
      "cell_type": "markdown",
      "source": [
        "Среднее арифметическое:"
      ],
      "metadata": {
        "id": "UFLssqK-FBOH"
      }
    },
    {
      "cell_type": "code",
      "source": [
        "def salary_mean(array):\n",
        "  return sum(array)/len(array)"
      ],
      "metadata": {
        "id": "rd6W0PZDFER6"
      },
      "execution_count": 3,
      "outputs": []
    },
    {
      "cell_type": "code",
      "source": [
        "print (f'Среднее арифметическое = {salary_mean(salary_array)}')"
      ],
      "metadata": {
        "colab": {
          "base_uri": "https://localhost:8080/"
        },
        "id": "npKD_lnUG73u",
        "outputId": "e2eda35b-f495-4793-bd30-c3583ff91bb7"
      },
      "execution_count": 4,
      "outputs": [
        {
          "output_type": "stream",
          "name": "stdout",
          "text": [
            "Среднее арифметическое = 65.3\n"
          ]
        }
      ]
    },
    {
      "cell_type": "markdown",
      "source": [
        "Cреднее квадратичное отклонение"
      ],
      "metadata": {
        "id": "1-N9RjcdH4BX"
      }
    },
    {
      "cell_type": "code",
      "source": [
        "def mean_square_dev(array):\n",
        "  square_dev = (array-salary_mean(array))**2\n",
        "  return (sum(square_dev)/(len(square_dev)-1))**(1/2)"
      ],
      "metadata": {
        "id": "TnG-A3-ZH8IB"
      },
      "execution_count": 5,
      "outputs": []
    },
    {
      "cell_type": "code",
      "source": [
        "print (f'Cреднее квадратичное отклонение = {mean_square_dev(salary_array)}')"
      ],
      "metadata": {
        "colab": {
          "base_uri": "https://localhost:8080/"
        },
        "id": "JRm8X9yeMOYJ",
        "outputId": "c6eb8270-0059-47dc-d7f1-1f2bf148d70d"
      },
      "execution_count": 6,
      "outputs": [
        {
          "output_type": "stream",
          "name": "stdout",
          "text": [
            "Cреднее квадратичное отклонение = 31.624607341019814\n"
          ]
        }
      ]
    },
    {
      "cell_type": "markdown",
      "source": [
        "Смещенная и несмещенная оценки дисперсий:"
      ],
      "metadata": {
        "id": "s9NX2xeuMnkD"
      }
    },
    {
      "cell_type": "code",
      "source": [
        "def dispersion(array, offset):\n",
        "  square_dev = (array-salary_mean(array))**2\n",
        "  return (sum(square_dev)/(len(square_dev)-1)) if offset else (sum(square_dev)/(len(square_dev)))"
      ],
      "metadata": {
        "id": "xH-D6l9oM3ot"
      },
      "execution_count": 7,
      "outputs": []
    },
    {
      "cell_type": "code",
      "source": [
        "print (f'Cмещенная оценка дисперсии = {dispersion(salary_array, False)}')\n",
        "print (f'Несмещенная оценка дисперсий = {dispersion(salary_array, True)}')"
      ],
      "metadata": {
        "colab": {
          "base_uri": "https://localhost:8080/"
        },
        "id": "o6naT6DvOvvD",
        "outputId": "ce4f0f96-252a-4298-ca61-38cf31014a38"
      },
      "execution_count": 8,
      "outputs": [
        {
          "output_type": "stream",
          "name": "stdout",
          "text": [
            "Cмещенная оценка дисперсии = 950.11\n",
            "Несмещенная оценка дисперсий = 1000.1157894736842\n"
          ]
        }
      ]
    },
    {
      "cell_type": "markdown",
      "source": [
        "## Task 2"
      ],
      "metadata": {
        "id": "GZWLEwDQzrLL"
      }
    },
    {
      "cell_type": "markdown",
      "source": [
        "В первом ящике находится 8 мячей, из которых 5 - белые. Во втором ящике - 12 мячей, из которых 5 белых. Из первого ящика вытаскивают случайным образом два мяча, из второго - 4. Какова вероятность того, что 3 мяча белые?"
      ],
      "metadata": {
        "id": "eN1vraFCzyWn"
      }
    },
    {
      "cell_type": "code",
      "source": [],
      "metadata": {
        "id": "Iw0538XY073O"
      },
      "execution_count": null,
      "outputs": []
    },
    {
      "cell_type": "markdown",
      "source": [
        "## Task 3"
      ],
      "metadata": {
        "id": "7MHIXGsUzY1n"
      }
    },
    {
      "cell_type": "markdown",
      "source": [
        "На соревновании по биатлону один из трех спортсменов стреляет и попадает в мишень. Вероятность попадания для первого спортсмена равна 0.9, для второго — 0.8, для третьего — 0.6. Найти вероятность того, что выстрел произведен: a). первым спортсменом б). вторым спортсменом в). третьим спортсменом."
      ],
      "metadata": {
        "id": "VZ_nvV5mzSpA"
      }
    },
    {
      "cell_type": "code",
      "source": [
        "P = 1/3\n",
        "Px = P*0.9 + P*0.8 + P*0.6"
      ],
      "metadata": {
        "id": "JRQMMmozz6i_"
      },
      "execution_count": 9,
      "outputs": []
    },
    {
      "cell_type": "code",
      "source": [
        "Px1 = P*0.9 / Px;\n",
        "print (f'Вероятность, что выстрел произведен первым спортсменом = {round(Px1,3)}')\n",
        "Px2 = P*0.8 / Px;\n",
        "print (f'Вероятность, что выстрел произведен вторым спортсменом = {round(Px2,3)}')\n",
        "Px3 = P*0.6 / Px;\n",
        "print (f'Вероятность, что выстрел произведен третьим спортсменом = {round(Px3,3)}')"
      ],
      "metadata": {
        "colab": {
          "base_uri": "https://localhost:8080/"
        },
        "id": "TEges6LX0WU9",
        "outputId": "6cf68a74-70fb-445d-deb2-7bf59b895010"
      },
      "execution_count": 11,
      "outputs": [
        {
          "output_type": "stream",
          "name": "stdout",
          "text": [
            "Вероятность, что выстрел произведен первым спортсменом = 0.391\n",
            "Вероятность, что выстрел произведен вторым спортсменом = 0.348\n",
            "Вероятность, что выстрел произведен третьим спортсменом = 0.261\n"
          ]
        }
      ]
    },
    {
      "cell_type": "markdown",
      "source": [
        "## Task 4"
      ],
      "metadata": {
        "id": "KbcfvTyw1z-0"
      }
    },
    {
      "cell_type": "markdown",
      "source": [
        "В университет на факультеты A и B поступило равное количество студентов, а на факультет C студентов поступило столько же, сколько на A и B вместе. Вероятность того, что студент факультета A сдаст первую сессию, равна 0.8. Для студента факультета B эта вероятность равна 0.7, а для студента факультета C - 0.9. Студент сдал первую сессию. Какова вероятность, что он учится: a). на факультете A б). на факультете B в). на факультете C?"
      ],
      "metadata": {
        "id": "opODxK2u2Frh"
      }
    },
    {
      "cell_type": "code",
      "source": [
        "P = 0.25*0.8+0.25*0.7+0.5*0.9"
      ],
      "metadata": {
        "id": "FZksfmcZ2JoK"
      },
      "execution_count": 15,
      "outputs": []
    },
    {
      "cell_type": "code",
      "source": [
        "Px1 = 0.25*0.8 / P\n",
        "print (f'Вероятность, что студент учится на факультете А = {round(Px1,3)}')\n",
        "Px2 = 0.25*0.7 / P\n",
        "print (f'Вероятность, что студент учится на факультете А = {round(Px2,3)}')\n",
        "Px3 = 0.5*0.9 / P\n",
        "print (f'Вероятность, что студент учится на факультете А = {round(Px3,3)}')"
      ],
      "metadata": {
        "colab": {
          "base_uri": "https://localhost:8080/"
        },
        "id": "cfaXiOMM2vQ9",
        "outputId": "9a92c932-33ae-4c96-941a-e17b3f09c42a"
      },
      "execution_count": 16,
      "outputs": [
        {
          "output_type": "stream",
          "name": "stdout",
          "text": [
            "Вероятность, что студент учится на факультете А = 0.242\n",
            "Вероятность, что студент учится на факультете А = 0.212\n",
            "Вероятность, что студент учится на факультете А = 0.545\n"
          ]
        }
      ]
    },
    {
      "cell_type": "markdown",
      "source": [
        "## Task 5"
      ],
      "metadata": {
        "id": "t_80teLL4RoF"
      }
    },
    {
      "cell_type": "markdown",
      "source": [
        "Устройство состоит из трех деталей. Для первой детали вероятность выйти из строя в первый месяц равна 0.1, для второй - 0.2, для третьей - 0.25. Какова вероятность того, что в первый месяц выйдут из строя: а). все детали б). только две детали в). хотя бы одна деталь г). от одной до двух деталей?"
      ],
      "metadata": {
        "id": "9RJc6aCd4Vk8"
      }
    },
    {
      "cell_type": "code",
      "source": [
        "P1 = 0.1*0.2*0.25\n",
        "print (f'Вероятность, что из строя выйдут все детали = {round(P1,3)}')"
      ],
      "metadata": {
        "colab": {
          "base_uri": "https://localhost:8080/"
        },
        "id": "ZzA0u2ND4de2",
        "outputId": "78c49322-98ad-4e7f-b0ce-ed149856bca1"
      },
      "execution_count": 18,
      "outputs": [
        {
          "output_type": "stream",
          "name": "stdout",
          "text": [
            "Вероятность, что из строя выйдут все детали = 0.005\n"
          ]
        }
      ]
    },
    {
      "cell_type": "code",
      "source": [
        "P2 = 0.1*0.2*0.75 + 0.1*0.8*0.25 + 0.9*0.2*0.25\n",
        "print (f'Вероятность, что из строя выйдут только две детали = {round(P2,3)}')\n"
      ],
      "metadata": {
        "colab": {
          "base_uri": "https://localhost:8080/"
        },
        "id": "OueiN7z05F3c",
        "outputId": "9206ffc9-64d9-4779-ac0e-236aa74262a1"
      },
      "execution_count": 21,
      "outputs": [
        {
          "output_type": "stream",
          "name": "stdout",
          "text": [
            "Вероятность, что из строя выйдут только две детали = 0.08\n"
          ]
        }
      ]
    },
    {
      "cell_type": "code",
      "source": [
        "P3 = 0.9*0.8*0.75\n",
        "print (f'Вероятность, что из строя выйдет ни одна деталь = {round(P3,3)}')"
      ],
      "metadata": {
        "colab": {
          "base_uri": "https://localhost:8080/"
        },
        "id": "yrKo4uw47VUA",
        "outputId": "4a9140de-583b-49fa-baf5-86533cabd0db"
      },
      "execution_count": 22,
      "outputs": [
        {
          "output_type": "stream",
          "name": "stdout",
          "text": [
            "Вероятность, что из строя выйдут все детали = 0.54\n"
          ]
        }
      ]
    },
    {
      "cell_type": "code",
      "source": [
        "P4 = 1 - P3\n",
        "print (f'Вероятность, что из строя выйдет хотя бы одна деталь = {round(P4,3)}')"
      ],
      "metadata": {
        "colab": {
          "base_uri": "https://localhost:8080/"
        },
        "id": "7LCVRXhX7lJ7",
        "outputId": "42d7e8f0-9868-485f-eee1-8f1a6fd77611"
      },
      "execution_count": 23,
      "outputs": [
        {
          "output_type": "stream",
          "name": "stdout",
          "text": [
            "Вероятность, что из строя выйдут все детали = 0.46\n"
          ]
        }
      ]
    },
    {
      "cell_type": "code",
      "source": [
        "P5 = 0.1*0.8*0.75 + 0.2*0.9*0.75 + 0.25*0.9*0.8\n",
        "P6 = P5 + P2\n",
        "print (f'Вероятность, что из строя выйдут 1-2 детали = {round(P6,3)}')"
      ],
      "metadata": {
        "colab": {
          "base_uri": "https://localhost:8080/"
        },
        "id": "MtMv0R3g8PLM",
        "outputId": "becfb8ac-9623-4376-dfcd-12fb3e8d9ea5"
      },
      "execution_count": 25,
      "outputs": [
        {
          "output_type": "stream",
          "name": "stdout",
          "text": [
            "Вероятность, что из строя выйдут 1-2 детали = 0.455\n"
          ]
        }
      ]
    }
  ]
}